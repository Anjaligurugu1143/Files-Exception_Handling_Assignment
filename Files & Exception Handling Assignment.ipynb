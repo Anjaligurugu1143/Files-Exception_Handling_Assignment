{
 "cells": [
  {
   "cell_type": "markdown",
   "id": "e4163c68-3175-4fa6-936d-a2e68812b703",
   "metadata": {},
   "source": [
    "# 1.Discuss the scenarios where multithreading is preferable to multiprocessing and scenarios where multiprocessing is a better choice."
   ]
  },
  {
   "cell_type": "markdown",
   "id": "90fe2e25-fe31-4a75-8aa4-f48abce38869",
   "metadata": {},
   "source": [
    "Scenarios Favoring Multithreading:\n",
    "\n",
    "I/O-Bound Tasks:\n",
    "Applications that spend significant time waiting for I/O operations (like file reading/writing, network requests) can benefit from multithreading. Threads can handle multiple I/O requests simultaneously, improving overall efficiency.\n",
    "\n",
    "Shared Memory:\n",
    "When tasks need to share data frequently, multithreading is often more efficient. Threads share the same memory space, allowing for easier data access and communication compared to the overhead of inter-process communication (IPC) in multiprocessing.\n",
    "\n",
    "Low Resource Overhead:\n",
    "Creating and managing threads typically requires less memory and processing power than processes. This is advantageous in applications where resource constraints are critical.\n",
    "\n",
    "Real-Time Applications:\n",
    "In systems where response time is crucial, such as real-time systems, threads can be more responsive due to lower context-switching overhead compared to processes.\n",
    "\n",
    "User Interfaces:\n",
    "In graphical applications, using threads can help keep the user interface responsive while performing background tasks (e.g., loading data, processing).\n",
    "\n",
    "\n",
    "Scenarios Favoring Multiprocessing:\n",
    "\n",
    "CPU-Bound Tasks:\n",
    "For tasks that require heavy computation, multiprocessing can be more efficient. Each process can run on a separate CPU core, maximizing the use of multi-core processors and avoiding the Global Interpreter Lock (GIL) in Python, for example.\n",
    "\n",
    "Isolation:\n",
    "Processes run in separate memory spaces, which enhances stability and security. If one process crashes, it does not affect others, making multiprocessing suitable for applications where fault tolerance is critical.\n",
    "\n",
    "Resource Intensive Applications:\n",
    "Applications that require significant resources (CPU, memory) can benefit from being isolated in separate processes to avoid contention for resources.\n",
    "\n",
    "Scalability:\n",
    "Multiprocessing can be easier to scale horizontally across multiple machines or clusters, especially in distributed systems, as each process can run independently.\n",
    "\n",
    "Diverse Language Support:\n",
    "In environments where different programming languages or runtimes are used, multiprocessing allows for interaction between different technologies through IPC, without being limited by the constraints of a single language's threading model."
   ]
  },
  {
   "cell_type": "markdown",
   "id": "16acd9cb-dc28-4e29-bfd4-ba621fc3f7ef",
   "metadata": {},
   "source": [
    "# 2.Describe what a process pool is and how it helps in managing multiple processes efficiently."
   ]
  },
  {
   "cell_type": "markdown",
   "id": "84f9035c-758c-4d17-9177-2f338bf1d16c",
   "metadata": {},
   "source": [
    "A process pool is a collection of pre-initialized processes that can be reused to execute tasks concurrently, helping to manage multiple processes efficiently. Instead of creating and destroying processes for each task, which can be resource-intensive and slow, a process pool maintains a set number of processes ready to handle incoming tasks.\n",
    "\n",
    "Key Benefits of a Process Pool:\n",
    "Resource Management: By limiting the number of concurrent processes, a process pool helps manage system resources effectively, preventing overload and ensuring that the system remains responsive.\n",
    "\n",
    "Reduced Overhead: Creating and tearing down processes can be time-consuming. With a process pool, the overhead associated with process management is minimized since processes are reused.\n",
    "\n",
    "Improved Performance: By allowing multiple tasks to be executed simultaneously, a process pool can significantly speed up the execution of programs, especially for CPU-bound tasks.\n",
    "\n",
    "Load Balancing: A process pool can help distribute tasks evenly among the available processes, ensuring that all processes are utilized efficiently and no single process becomes a bottleneck.\n",
    "\n",
    "Simplified Code: Using a process pool often simplifies code management, as developers can focus on the tasks being executed rather than the complexities of process creation and synchronization.\n",
    "\n",
    "Use Cases:\n",
    "Web Servers: Handling multiple requests concurrently without spawning new processes for each request.\n",
    "Data Processing: Executing multiple data transformation tasks in parallel, improving throughput.\n",
    "Parallel Computing: Performing complex computations that can be broken down into independent tasks."
   ]
  },
  {
   "cell_type": "markdown",
   "id": "b970f790-e6bd-470a-b03c-80f6cb5301b9",
   "metadata": {},
   "source": [
    "# 3.Explain what multiprocessing is and why it is used in Python programs."
   ]
  },
  {
   "cell_type": "markdown",
   "id": "f56e2a6d-b2e0-4621-8186-d2915287c6b0",
   "metadata": {},
   "source": [
    "Multiprocessing is a programming technique that allows a program to execute multiple processes simultaneously. In Python, the multiprocessing module is used to create and manage separate processes, each with its own Python interpreter and memory space. This is particularly useful for CPU-bound tasks, as it can significantly improve performance by taking advantage of multiple CPU cores.\n",
    "\n",
    "Why Use Multiprocessing in Python?\n",
    "Bypassing the Global Interpreter Lock (GIL): Python's GIL allows only one thread to execute at a time in a single process, which can be a bottleneck for CPU-bound tasks. Multiprocessing avoids this limitation by running multiple processes, each with its own GIL.\n",
    "\n",
    "Parallelism: It enables true parallelism, allowing tasks to be executed simultaneously on different CPU cores. This is beneficial for tasks that require significant computational resources.\n",
    "\n",
    "Improved Performance: For tasks like data processing, simulations, or heavy calculations, using multiple processes can lead to faster execution times compared to single-threaded or single-process approaches.\n",
    "\n",
    "Isolation: Each process runs in its own memory space, which provides isolation. This can help prevent issues related to shared state, making debugging easier.\n",
    "\n",
    "Scalability: Multiprocessing can help scale applications by utilizing more CPU resources as needed, making it suitable for high-performance computing tasks.\n",
    "\n",
    "When to Use\n",
    "CPU-bound tasks: When the workload involves heavy computations (e.g., numerical calculations, image processing).\n",
    "Batch processing: Tasks that can be performed independently and in parallel.\n",
    "Long-running processes: Applications that can benefit from splitting work across multiple processes to reduce overall execution time."
   ]
  },
  {
   "cell_type": "markdown",
   "id": "8798fb5f-15b6-48e7-bf41-7588ca69472f",
   "metadata": {},
   "source": [
    "# 4. Write a Python program using multithreading where one thread adds numbers to a list, and another thread removes numbers from the list. Implement a mechanism to avoid race conditions using threading.Lock."
   ]
  },
  {
   "cell_type": "code",
   "execution_count": 2,
   "id": "e16f18e1-eaeb-4ee6-8ea1-97a88ce205f1",
   "metadata": {},
   "outputs": [
    {
     "name": "stdout",
     "output_type": "stream",
     "text": [
      "Added: 0. List: [0]\n",
      "Removed: 0. List: []\n",
      "Added: 1. List: [1]\n",
      "Added: 2. List: [1, 2]\n",
      "Removed: 1. List: [2]\n",
      "Added: 3. List: [2, 3]\n",
      "Added: 4. List: [2, 3, 4]\n",
      "Removed: 2. List: [3, 4]\n",
      "Added: 5. List: [3, 4, 5]\n",
      "Removed: 3. List: [4, 5]\n",
      "Added: 6. List: [4, 5, 6]\n",
      "Removed: 4. List: [5, 6]\n",
      "Added: 7. List: [5, 6, 7]\n",
      "Removed: 5. List: [6, 7]\n",
      "Added: 8. List: [6, 7, 8]\n",
      "Removed: 6. List: [7, 8]\n",
      "Added: 9. List: [7, 8, 9]\n",
      "Removed: 7. List: [8, 9]\n",
      "Removed: 8. List: [9]\n",
      "Removed: 9. List: []\n",
      "Final List: []\n"
     ]
    }
   ],
   "source": [
    "import threading\n",
    "import time\n",
    "import random\n",
    "shared_list = []\n",
    "lock = threading.Lock()\n",
    "def add_numbers():\n",
    "    for i in range(10):\n",
    "        time.sleep(random.uniform(0.1, 0.5))\n",
    "        with lock:\n",
    "            shared_list.append(i)\n",
    "            print(f'Added: {i}. List: {shared_list}')\n",
    "\n",
    "def remove_numbers():\n",
    "    for _ in range(10):\n",
    "        time.sleep(random.uniform(0.1, 0.5))\n",
    "        with lock:\n",
    "            if shared_list:\n",
    "                removed = shared_list.pop(0)\n",
    "                print(f'Removed: {removed}. List: {shared_list}')\n",
    "            else:\n",
    "                print('List is empty, nothing to remove.')\n",
    "\n",
    "adder_thread = threading.Thread(target=add_numbers)\n",
    "remover_thread = threading.Thread(target=remove_numbers)\n",
    "adder_thread.start()\n",
    "remover_thread.start()\n",
    "adder_thread.join()\n",
    "remover_thread.join()\n",
    "print('Final List:', shared_list)"
   ]
  },
  {
   "cell_type": "markdown",
   "id": "e4fc5485-d98b-4918-9b8e-01d1802c0f62",
   "metadata": {},
   "source": [
    "# 5.Describe the methods and tools available in Python for safely sharing data between threads and processes."
   ]
  },
  {
   "cell_type": "markdown",
   "id": "ce55bf2c-c17d-4fff-b307-267379655de9",
   "metadata": {},
   "source": [
    "For Threading:\n",
    "\n",
    "1.Lock:\n",
    "The simplest synchronization primitive. A Lock allows only one thread to access a shared resource at a time.\n",
    "\n",
    "from threading import Lock\n",
    "lock = Lock()\n",
    "with lock:\n",
    "    # Critical section"
   ]
  },
  {
   "cell_type": "markdown",
   "id": "a0755468-74b9-4f23-b111-f6055067f07e",
   "metadata": {},
   "source": [
    "2.RLock (Reentrant Lock):\n",
    "A type of lock that can be acquired multiple times by the same thread. Useful for situations where the same thread needs to access a resource multiple times.\n",
    "\n",
    "from threading import RLock\n",
    "rlock = RLock()"
   ]
  },
  {
   "cell_type": "markdown",
   "id": "86a373a2-6938-4b29-b19f-254aa790a0af",
   "metadata": {},
   "source": [
    "3.Condition:\n",
    "Allows threads to wait until a certain condition is met. Useful for producer-consumer scenarios.\n",
    "\n",
    "from threading import Condition\n",
    "condition = Condition()"
   ]
  },
  {
   "cell_type": "markdown",
   "id": "fe88e616-43d2-4b8b-865a-fd4eca7c4fc5",
   "metadata": {},
   "source": [
    "4.Semaphore:\n",
    "A signaling mechanism that allows a limited number of threads to access a resource simultaneously. Useful for limiting resource access.\n",
    "\n",
    "from threading import Semaphore\n",
    "semaphore = Semaphore(2)"
   ]
  },
  {
   "cell_type": "markdown",
   "id": "07ce6dd3-3a53-447a-b9c1-9f8368fbe8eb",
   "metadata": {},
   "source": [
    "5.Event:\n",
    "A simple way for one thread to signal an event to other threads. Useful for managing state across threads.\n",
    "\n",
    "from threading import Event\n",
    "event = Event()"
   ]
  },
  {
   "cell_type": "markdown",
   "id": "dbca902a-3bc1-4e9e-8642-4e8593c20b64",
   "metadata": {},
   "source": [
    "For Multiprocessing:\n",
    "\n",
    "1.Process:\n",
    "The multiprocessing module allows you to create separate processes that can run concurrently. Each process has its own memory space."
   ]
  },
  {
   "cell_type": "markdown",
   "id": "3abd5fde-f2ed-45b3-913b-5f02a0c502a7",
   "metadata": {},
   "source": [
    "2.Queue:\n",
    "Similar to threading, multiprocessing.Queue provides a way to safely share data between processes. It is a FIFO queue and thread-safe.\n",
    "\n",
    "from multiprocessing import Queue\n",
    "queue = Queue()"
   ]
  },
  {
   "cell_type": "markdown",
   "id": "818349cc-ca5c-4269-964b-c11701b03de6",
   "metadata": {},
   "source": [
    "3.Pipe:\n",
    "A way to establish a two-way communication channel between processes. Useful for direct communication.\n",
    "\n",
    "from multiprocessing import Pipe\n",
    "parent_conn, child_conn = Pipe()"
   ]
  },
  {
   "cell_type": "markdown",
   "id": "423dffa9-9c89-4fd8-b1fa-704fa75ca436",
   "metadata": {},
   "source": [
    "4.Manager:\n",
    "A Manager object allows you to create shared objects such as lists, dictionaries, and arrays that can be accessed by multiple processes.\n",
    "\n",
    "from multiprocessing import Manager\n",
    "manager = Manager()\n",
    "shared_list = manager.list()"
   ]
  },
  {
   "cell_type": "markdown",
   "id": "549ae727-6601-47da-9c3c-b096bf5edcdf",
   "metadata": {},
   "source": [
    "5.Lock:\n",
    "Similar to threading, multiprocessing.Lock ensures that only one process can access a resource at a time."
   ]
  },
  {
   "cell_type": "markdown",
   "id": "6558a14e-717b-47f1-b5e1-3b410a001fa4",
   "metadata": {},
   "source": [
    "6.Semaphore:\n",
    "Just like with threads, a multiprocessing.Semaphore allows a limited number of processes to access a resource."
   ]
  },
  {
   "cell_type": "markdown",
   "id": "c2941991-a01d-4911-a7f5-2bfe09790fcb",
   "metadata": {},
   "source": [
    "# 6.Discuss why it’s crucial to handle exceptions in concurrent programs and the techniques available for doing so."
   ]
  },
  {
   "cell_type": "markdown",
   "id": "f13bc7de-e886-40d7-9bd7-9233b90165f4",
   "metadata": {},
   "source": [
    "Importance of Exception Handling in Concurrent Programs:\n",
    "\n",
    "1.State Integrity: In concurrent environments, multiple threads or processes operate on shared resources. An unhandled exception can lead to inconsistent states, corrupting shared data or resources.\n",
    "\n",
    "2.Graceful Degradation: Proper exception handling allows a system to degrade gracefully under failure conditions, ensuring that not all parts of the application crash, which can lead to a complete system failure.\n",
    "\n",
    "3.Resource Management: Concurrent programs often manage resources such as file handles, network connections, and memory. Unhandled exceptions can lead to resource leaks, which can exhaust available resources and cause the system to become unresponsive.\n",
    "\n",
    "4.Error Propagation: In a concurrent environment, exceptions may need to be propagated up to higher levels of the application for logging, alerting, or recovery. Without proper handling, exceptions may be lost, making debugging difficult.\n",
    "\n",
    "5.User Experience: For user-facing applications, handling exceptions appropriately can lead to better user experiences. Informative error messages can guide users rather than leaving them in a confusing or broken state.\n",
    "\n",
    "Techniques for Exception Handling in Concurrent Programs:\n",
    "\n",
    "1.Try-Catch Blocks: The most basic form of exception handling is using try-catch blocks. Each thread can have its own try-catch mechanism to manage exceptions locally.\n",
    "\n",
    "2.Thread-Specific Error Handling: Implement error handling strategies that are specific to each thread. For example, using thread-local storage to maintain state can help isolate errors to specific threads.\n",
    "\n",
    "3.Error Reporting and Logging: Centralized error logging mechanisms can help collect exceptions from various threads. This allows for better monitoring and debugging without losing information about where the error occurred.\n",
    "\n",
    "4.Future and Promises: In languages that support futures and promises, these constructs can be used to handle exceptions that occur in asynchronous operations, allowing errors to be caught and managed when the future is resolved.\n",
    "\n",
    "5.Callback Functions: Using callbacks can also help manage errors in concurrent operations. By passing error-handling callbacks, you can define specific behavior for different failure scenarios.\n",
    "\n",
    "6.Thread Pools: Using thread pools can help manage the lifecycle of threads and handle exceptions that occur during task execution. A centralized exception handler can be employed to catch and log exceptions from tasks executed within the pool.\n",
    "\n",
    "7.Structured Concurrency: This approach involves managing the lifecycle of concurrent tasks in a structured way. With structured concurrency, exceptions can be propagated up the call stack, allowing for more consistent handling of errors across multiple threads.\n",
    "\n",
    "8.Retries and Circuit Breakers: Implementing retry logic for certain operations can be beneficial, especially for transient failures. Circuit breakers can also help manage repeated failures by stopping further attempts after a defined threshold."
   ]
  },
  {
   "cell_type": "markdown",
   "id": "2bb2a75c-2292-4f6b-8265-210352a13a95",
   "metadata": {},
   "source": [
    "# 7.Create a program that uses a thread pool to calculate the factorial of numbers from 1 to 10 concurrently. Use concurrent.futures.ThreadPoolExecutor to manage the threads."
   ]
  },
  {
   "cell_type": "code",
   "execution_count": 4,
   "id": "d39317fd-31fb-4db3-9862-c9697cd3cb55",
   "metadata": {},
   "outputs": [
    {
     "name": "stdout",
     "output_type": "stream",
     "text": [
      "The factorial of 3 is 6\n",
      "The factorial of 8 is 40320\n",
      "The factorial of 9 is 362880\n",
      "The factorial of 6 is 720\n",
      "The factorial of 2 is 2\n",
      "The factorial of 4 is 24\n",
      "The factorial of 1 is 1\n",
      "The factorial of 5 is 120\n",
      "The factorial of 7 is 5040\n",
      "The factorial of 10 is 3628800\n"
     ]
    }
   ],
   "source": [
    "import concurrent.futures\n",
    "import math\n",
    "\n",
    "def factorial(n):\n",
    "    \"\"\"Calculate the factorial of a given number.\"\"\"\n",
    "    return math.factorial(n)\n",
    "    \n",
    "def main():\n",
    "    numbers = list(range(1, 11))\n",
    "    with concurrent.futures.ThreadPoolExecutor() as executor:\n",
    "        # Submit tasks to the executor\n",
    "        futures = {executor.submit(factorial, num): num for num in numbers}\n",
    "        for future in concurrent.futures.as_completed(futures):\n",
    "            num = futures[future]\n",
    "            try:\n",
    "                result = future.result()\n",
    "                print(f\"The factorial of {num} is {result}\")\n",
    "            except Exception as exc:\n",
    "                print(f\"Factorial calculation for {num} generated an exception: {exc}\")\n",
    "if __name__ == \"__main__\":\n",
    "    main()"
   ]
  },
  {
   "cell_type": "markdown",
   "id": "c0a6f487-4ad5-44ac-b3d6-2fe4b7dc5c7f",
   "metadata": {},
   "source": [
    "# 8.Create a Python program that uses multiprocessing.Pool to compute the square of numbers from 1 to 10 in parallel. Measure the time taken to perform this computation using a pool of different sizes (e.g., 2, 4, 8 processes)."
   ]
  },
  {
   "cell_type": "code",
   "execution_count": null,
   "id": "4369f89e-d43d-4639-8fb0-b42420350eee",
   "metadata": {},
   "outputs": [],
   "source": [
    "import multiprocessing\n",
    "import time\n",
    "def square(n):\n",
    "    return n * n\n",
    "def compute_squares(pool_size):\n",
    "    numbers = list(range(1, 11))\n",
    "    with multiprocessing.Pool(processes=pool_size) as pool:\n",
    "        results = pool.map(square, numbers)\n",
    "    return results\n",
    "def main():\n",
    "    pool_sizes = [2, 4, 8]\n",
    "    for size in pool_sizes:\n",
    "        start_time = time.time()\n",
    "        results = compute_squares(size)\n",
    "        end_time = time.time()\n",
    "        print(f\"Pool size: {size} | Results: {results} | Time taken: {end_time - start_time:.4f} seconds\")\n",
    "if __name__ == \"__main__\":\n",
    "    main()"
   ]
  }
 ],
 "metadata": {
  "kernelspec": {
   "display_name": "Python 3 (ipykernel)",
   "language": "python",
   "name": "python3"
  },
  "language_info": {
   "codemirror_mode": {
    "name": "ipython",
    "version": 3
   },
   "file_extension": ".py",
   "mimetype": "text/x-python",
   "name": "python",
   "nbconvert_exporter": "python",
   "pygments_lexer": "ipython3",
   "version": "3.12.6"
  }
 },
 "nbformat": 4,
 "nbformat_minor": 5
}
